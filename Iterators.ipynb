{
 "cells": [
  {
   "cell_type": "code",
   "execution_count": 10,
   "id": "e452e79b",
   "metadata": {},
   "outputs": [
    {
     "name": "stdout",
     "output_type": "stream",
     "text": [
      "book\n",
      "pencil\n",
      "scale\n",
      "ruler\n",
      "eraser\n"
     ]
    }
   ],
   "source": [
    "mytuple = (\"book\",\"pencil\",\"scale\",\"ruler\",\"eraser\")\n",
    "myit =iter(mytuple)\n",
    "\n",
    "\n",
    "for i in myit:\n",
    "    print(i)"
   ]
  },
  {
   "cell_type": "code",
   "execution_count": 8,
   "id": "5b0404df",
   "metadata": {},
   "outputs": [
    {
     "name": "stdout",
     "output_type": "stream",
     "text": [
      "h\n",
      "i\n",
      "p\n",
      "p\n",
      "o\n",
      "p\n",
      "o\n",
      "t\n",
      "a\n",
      "m\n",
      "a\n",
      "s\n"
     ]
    }
   ],
   "source": [
    "mystr = \"hippopotamas\"\n",
    "mtit = iter(mystr)\n",
    "\n",
    "for i in mtit:\n",
    "    print(i)\n"
   ]
  },
  {
   "cell_type": "code",
   "execution_count": 24,
   "id": "579a887f",
   "metadata": {},
   "outputs": [
    {
     "name": "stdout",
     "output_type": "stream",
     "text": [
      "1\n",
      "2\n",
      "3\n",
      "4\n",
      "5\n"
     ]
    }
   ],
   "source": [
    "#StopIteration\n",
    "\n",
    "class Mynumbers:\n",
    "    def __iter__(self):\n",
    "        self.a = 1\n",
    "        return self \n",
    "    \n",
    "    def __next__(self):\n",
    "        if( self.a <= 5):\n",
    "            x = self.a\n",
    "            self.a = self.a +1\n",
    "            return x\n",
    "        else: \n",
    "            raise StopIteration\n",
    "    \n",
    "myclass = Mynumbers()\n",
    "myiter = iter(myclass)\n",
    "\n",
    "for i in myiter:\n",
    "    print(i)\n",
    "    "
   ]
  },
  {
   "cell_type": "code",
   "execution_count": 65,
   "id": "699c7ce0",
   "metadata": {},
   "outputs": [
    {
     "name": "stdout",
     "output_type": "stream",
     "text": [
      "Drive\n",
      "Sail\n",
      "Fly\n"
     ]
    }
   ],
   "source": [
    "#Polymophysm - DIFFERENT class with same methods\n",
    "\n",
    "class Car:\n",
    "    def __init__(self,brand,model):\n",
    "        self.brand = brand\n",
    "        self.model = model\n",
    "        \n",
    "    def move(self):\n",
    "        print(\"Drive\")\n",
    "class boat:\n",
    "    def __init__(self,brand,model):\n",
    "        self.brand = brand\n",
    "        self.model = model\n",
    "    def move(self):\n",
    "        print(\"Sail\")\n",
    "class Plane:\n",
    "    def __init__(self,brand,model):\n",
    "        self.brand = brand\n",
    "        self.model = model\n",
    "    def move(self):\n",
    "        print(\"Fly\")\n",
    "\n",
    "        \n",
    "car_1 = Car(\"Ford\",\"Mustang\")\n",
    "Boat_1 = boat(\"Ibiza\",\"touring 20\")\n",
    "Plane_1 = Plane(\"Boeing\",\"747\")\n",
    "\n",
    "for x in (car_1,Boat_1,Plane_1):\n",
    "    x.move()\n",
    "    \n",
    "    \n",
    "        "
   ]
  },
  {
   "cell_type": "code",
   "execution_count": 63,
   "id": "bd4bc604",
   "metadata": {},
   "outputs": [
    {
     "name": "stdout",
     "output_type": "stream",
     "text": [
      "1\n",
      "2\n",
      "3\n",
      "4\n",
      "5\n",
      "6\n",
      "720\n"
     ]
    }
   ],
   "source": [
    "def factorial(n):\n",
    "    f = 1\n",
    "    for i in range(1,n+1):\n",
    "        print(i)\n",
    "        f = f * i\n",
    "          \n",
    "    return(f)\n",
    "print(factorial(6))\n",
    "\n",
    "\n",
    "\n",
    "\n",
    "\n",
    "\n",
    "\n",
    "\n",
    "\n"
   ]
  },
  {
   "cell_type": "code",
   "execution_count": 64,
   "id": "8c4ce90d",
   "metadata": {},
   "outputs": [
    {
     "name": "stdout",
     "output_type": "stream",
     "text": [
      "6\n",
      "5\n",
      "4\n",
      "3\n",
      "2\n",
      "1\n",
      "720\n"
     ]
    }
   ],
   "source": [
    "def fact1(n):\n",
    "    if n ==0:\n",
    "        return 1\n",
    "    else:\n",
    "        print(n)\n",
    "\n",
    "        return n * fact1(n - 1)\n",
    "print(fact1(6))\n"
   ]
  },
  {
   "cell_type": "code",
   "execution_count": null,
   "id": "353347a1",
   "metadata": {},
   "outputs": [],
   "source": []
  }
 ],
 "metadata": {
  "kernelspec": {
   "display_name": "Python 3 (ipykernel)",
   "language": "python",
   "name": "python3"
  },
  "language_info": {
   "codemirror_mode": {
    "name": "ipython",
    "version": 3
   },
   "file_extension": ".py",
   "mimetype": "text/x-python",
   "name": "python",
   "nbconvert_exporter": "python",
   "pygments_lexer": "ipython3",
   "version": "3.10.9"
  }
 },
 "nbformat": 4,
 "nbformat_minor": 5
}
